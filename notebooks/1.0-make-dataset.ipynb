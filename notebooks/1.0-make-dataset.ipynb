{
 "cells": [
  {
   "cell_type": "code",
   "execution_count": 3,
   "metadata": {},
   "outputs": [],
   "source": [
    "%load_ext autoreload\n",
    "%autoreload 2"
   ]
  },
  {
   "cell_type": "code",
   "execution_count": 4,
   "metadata": {},
   "outputs": [],
   "source": [
    "import pandas as pd\n",
    "import os\n",
    "import portafilio_profesional.utils.paths as path\n",
    "import seaborn as sns\n",
    "import numpy as np\n",
    "import matplotlib.pyplot as plt"
   ]
  },
  {
   "cell_type": "code",
   "execution_count": 12,
   "metadata": {},
   "outputs": [
    {
     "data": {
      "text/plain": [
       "PosixPath('/home/dracdarktime/Documents/Proyectos/platzi/crear_portafolio/portafilio_profesional/data/processed')"
      ]
     },
     "execution_count": 12,
     "metadata": {},
     "output_type": "execute_result"
    }
   ],
   "source": [
    "path.data_processed_dir()"
   ]
  },
  {
   "cell_type": "code",
   "execution_count": 13,
   "metadata": {},
   "outputs": [],
   "source": [
    "dir_catalogos = path.data_raw_dir('catalogos')\n",
    "dir_atus = path.data_raw_dir('conjunto_de_datos')"
   ]
  },
  {
   "cell_type": "code",
   "execution_count": null,
   "metadata": {},
   "outputs": [],
   "source": [
    "df_list = []  # Lista para almacenar los DataFrames\n",
    "\n",
    "for file_index, file_name in enumerate(os.listdir(dir_atus)):\n",
    "    #print(file_index)  # Mostrar el índice del archivo procesado\n",
    "    file_path = dir_atus.joinpath(file_name)  # Construir la ruta completa del archivo\n",
    "    df = pd.read_csv(file_path, index_col=False)  # Leer el archivo CSV\n",
    "    df_list.append(df)  # Agregar el DataFrame a la lista\n"
   ]
  },
  {
   "cell_type": "code",
   "execution_count": 6,
   "metadata": {},
   "outputs": [],
   "source": [
    "# Concatenar todos los DataFrames en uno solo\n",
    "df_total = pd.concat(df_list, axis=0, ignore_index=True)"
   ]
  },
  {
   "cell_type": "code",
   "execution_count": 14,
   "metadata": {},
   "outputs": [],
   "source": [
    "name_catalogos = path.data_processed_dir().joinpath(\"catalogos.csv\")\n",
    "name_atus = path.data_processed_dir().joinpath(\"ATUS.csv\")"
   ]
  },
  {
   "cell_type": "code",
   "execution_count": 15,
   "metadata": {},
   "outputs": [],
   "source": [
    "def name(x):\n",
    "    name = path.data_raw_dir('catalogos').joinpath(x)\n",
    "    return name"
   ]
  },
  {
   "cell_type": "code",
   "execution_count": null,
   "metadata": {},
   "outputs": [],
   "source": [
    "df_total.drop(['ESTATUS', 'ID_MINUTO','COBERTURA'], inplace=True, axis=1)"
   ]
  },
  {
   "cell_type": "code",
   "execution_count": 11,
   "metadata": {},
   "outputs": [],
   "source": [
    "df_total.to_csv('/home/dracdarktime/Documents/Proyectos/platzi/crear_portafolio/portafilio_profesional/data/processed/ATUS.csv')"
   ]
  },
  {
   "cell_type": "code",
   "execution_count": 17,
   "metadata": {},
   "outputs": [],
   "source": [
    "tc_entidad = pd.read_csv(name('tc_entidad.csv'))\n",
    "tc_municipio = pd.read_csv(name('tc_municipio.csv'))\n",
    "tc_periodo_mes = pd.read_csv(name('tc_periodo_mes.csv'))"
   ]
  },
  {
   "cell_type": "code",
   "execution_count": 18,
   "metadata": {},
   "outputs": [],
   "source": [
    "tc_semana = pd.DataFrame({'ID_SEMANA':[1,2,3,4,5,6,7], 'DIA_SEMANA':['lun','mar','mier','jue','vier','sab','dom']})"
   ]
  },
  {
   "cell_type": "code",
   "execution_count": 19,
   "metadata": {},
   "outputs": [],
   "source": [
    "df_atus = pd.read_csv(name_atus, index_col=0)"
   ]
  },
  {
   "cell_type": "code",
   "execution_count": 51,
   "metadata": {},
   "outputs": [],
   "source": [
    "df_atus.loc[df_atus['DIASEMANA'] == 'Lunes', 'DIASEMANA'] = 1\n",
    "df_atus.loc[df_atus['DIASEMANA'] == 'Martes', 'DIASEMANA'] = 2\n",
    "df_atus.loc[df_atus['DIASEMANA'] == 'Miercoles', 'DIASEMANA'] = 3\n",
    "df_atus.loc[df_atus['DIASEMANA'] == 'Jueves', 'DIASEMANA'] = 4\n",
    "df_atus.loc[df_atus['DIASEMANA'] == 'Viernes', 'DIASEMANA'] = 5\n",
    "df_atus.loc[df_atus['DIASEMANA'] == 'Sabado', 'DIASEMANA'] = 6\n",
    "df_atus.loc[df_atus['DIASEMANA'] == 'Domingo', 'DIASEMANA'] = 7"
   ]
  },
  {
   "cell_type": "code",
   "execution_count": 55,
   "metadata": {},
   "outputs": [],
   "source": [
    "df_atus.drop(df_atus[df_atus['DIASEMANA'] == 'Certificado cero'].index, inplace=True)\n",
    "df_atus.drop(df_atus[df_atus['DIASEMANA'] == 'No especificado'].index, inplace=True)\n"
   ]
  },
  {
   "cell_type": "code",
   "execution_count": 34,
   "metadata": {},
   "outputs": [],
   "source": [
    "tc_sexo = pd.DataFrame({'ID_SEXO':[1,2,0], 'SEXO':['mujer','hombre','se fugo']})"
   ]
  },
  {
   "cell_type": "code",
   "execution_count": 64,
   "metadata": {},
   "outputs": [],
   "source": [
    "df_atus.loc[df_atus['SEXO'] == 'Hombre', 'SEXO'] = 1\n",
    "df_atus.loc[df_atus['SEXO'] == 'Mujer', 'SEXO'] = 2\n",
    "df_atus.loc[df_atus['SEXO'] == 'Se fugó', 'SEXO'] = 0\n",
    "df_atus.loc[df_atus['SEXO'] == 'Certificado cero', 'SEXO'] = 0"
   ]
  },
  {
   "cell_type": "code",
   "execution_count": 74,
   "metadata": {},
   "outputs": [],
   "source": [
    "tc_suburbana = pd.DataFrame({'ID_suburbana':[1,2,3,4], 'SUBURBANA':['Sin accidente en esta zona', 'Accidente en camino rural',\n",
    "       'Accidentes en otro camino', 'Accidente en carretera estatal']})"
   ]
  },
  {
   "cell_type": "code",
   "execution_count": 75,
   "metadata": {},
   "outputs": [],
   "source": [
    "df_atus.loc[df_atus['SUBURBANA'] == 'Sin accidente en esta zona', 'SUBURBANA'] = 1\n",
    "df_atus.loc[df_atus['SUBURBANA'] == 'Accidente en camino rural', 'SUBURBANA'] = 2\n",
    "df_atus.loc[df_atus['SUBURBANA'] == 'Accidentes en otro camino', 'SUBURBANA'] = 3\n",
    "df_atus.loc[df_atus['SUBURBANA'] == 'Accidente en carretera estatal', 'SUBURBANA'] = 4"
   ]
  },
  {
   "cell_type": "code",
   "execution_count": 105,
   "metadata": {},
   "outputs": [],
   "source": [
    "tc_urbana = pd.DataFrame({'ID_urbana':[1,2,3], 'URBANA':['Accidente en intersección', 'Sin accidente en esta zona',\n",
    "       'Accidente en no intersección']})"
   ]
  },
  {
   "cell_type": "code",
   "execution_count": 82,
   "metadata": {},
   "outputs": [],
   "source": [
    "df_atus.loc[df_atus['URBANA'] == 'Accidente en intersección', 'URBANA'] = 1\n",
    "df_atus.loc[df_atus['URBANA'] == 'Sin accidente en esta zona', 'URBANA'] = 2\n",
    "df_atus.loc[df_atus['URBANA'] == 'Accidente en no intersección', 'URBANA'] = 3"
   ]
  },
  {
   "cell_type": "code",
   "execution_count": 88,
   "metadata": {},
   "outputs": [],
   "source": [
    "tc_tipaccid = pd.DataFrame({'ID_tipaccid':[1,2,3,4,5,6,7,8,9,10,11,12,13], 'tipaccid':['Colisión con objeto fijo', 'Colisión con vehículo automotor',\n",
    "       'Colisión con motocicleta', 'Colisión con ciclista',\n",
    "       'Salida del camino', 'Volcadura',\n",
    "       'Colisión con peatón (atropellamiento)', 'Caída de pasajero',\n",
    "       'Colisión con animal', 'Otro', 'Colisión con ferrocarril',\n",
    "       'Incendio', 'Certificado cero']})"
   ]
  },
  {
   "cell_type": "code",
   "execution_count": 90,
   "metadata": {},
   "outputs": [],
   "source": [
    "valores = ['Colisión con objeto fijo', 'Colisión con vehículo automotor',\n",
    "       'Colisión con motocicleta', 'Colisión con ciclista',\n",
    "       'Salida del camino', 'Volcadura',\n",
    "       'Colisión con peatón (atropellamiento)', 'Caída de pasajero',\n",
    "       'Colisión con animal', 'Otro', 'Colisión con ferrocarril',\n",
    "       'Incendio', 'Certificado cero']"
   ]
  },
  {
   "cell_type": "code",
   "execution_count": 91,
   "metadata": {},
   "outputs": [],
   "source": [
    "for numero, valor in enumerate(valores):\n",
    "    df_atus.loc[df_atus['TIPACCID'] == valor, 'TIPACCID'] = numero +1"
   ]
  },
  {
   "cell_type": "code",
   "execution_count": 101,
   "metadata": {},
   "outputs": [],
   "source": [
    "valores_causaacci = list(df_atus['CAUSAACCI'].unique())"
   ]
  },
  {
   "cell_type": "code",
   "execution_count": 106,
   "metadata": {},
   "outputs": [],
   "source": [
    "tc_causaacci = pd.DataFrame({'ID_causaacci':[1,2,3,4,5,6], 'CAUSAACCI':valores_causaacci})"
   ]
  },
  {
   "cell_type": "code",
   "execution_count": 108,
   "metadata": {},
   "outputs": [],
   "source": [
    "for numero, valor in enumerate(valores_causaacci):\n",
    "    df_atus.loc[df_atus['CAUSAACCI'] == valor, 'CAUSAACCI'] = numero +1"
   ]
  },
  {
   "cell_type": "code",
   "execution_count": 123,
   "metadata": {},
   "outputs": [],
   "source": [
    "def onehot(name, valores_dados=None):\n",
    "    if valores_dados==None:\n",
    "        valores_dados = list(df_atus[name].unique())\n",
    "    print(valores_dados)\n",
    "    tc = pd.DataFrame({f'ID_{name}':list(np.arange(1,len(valores_dados)+1)), name:valores_dados})\n",
    "    for numero, valor in enumerate(valores_dados):\n",
    "        df_atus.loc[df_atus[name] == valor, name] = numero +1\n",
    "    print(tc)\n",
    "    return tc\n",
    "\n",
    "\n"
   ]
  },
  {
   "cell_type": "code",
   "execution_count": 118,
   "metadata": {},
   "outputs": [
    {
     "name": "stdout",
     "output_type": "stream",
     "text": [
      "['Pavimentada', 'No Pavimentada', 'Certificado cero']\n",
      "   ID_{name}           CAPAROD\n",
      "0          1       Pavimentada\n",
      "1          2    No Pavimentada\n",
      "2          3  Certificado cero\n"
     ]
    }
   ],
   "source": [
    "tc_caparod=onehot('CAPAROD')"
   ]
  },
  {
   "cell_type": "code",
   "execution_count": 124,
   "metadata": {},
   "outputs": [
    {
     "name": "stdout",
     "output_type": "stream",
     "text": [
      "['Sí', 'No', 'Se ignora', 'Certificado cero']\n",
      "   ID_ALIENTO           ALIENTO\n",
      "0           1                Sí\n",
      "1           2                No\n",
      "2           3         Se ignora\n",
      "3           4  Certificado cero\n"
     ]
    }
   ],
   "source": [
    "tc_aliento=onehot('ALIENTO', valores_dados=['Sí', 'No', 'Se ignora', 'Certificado cero'])"
   ]
  },
  {
   "cell_type": "code",
   "execution_count": 125,
   "metadata": {},
   "outputs": [
    {
     "name": "stdout",
     "output_type": "stream",
     "text": [
      "['Se ignora', 'No', 'Sí', 'Certificado cero']\n",
      "   ID_CINTURON          CINTURON\n",
      "0            1         Se ignora\n",
      "1            2                No\n",
      "2            3                Sí\n",
      "3            4  Certificado cero\n"
     ]
    }
   ],
   "source": [
    "tc_cinturon=onehot('CINTURON')"
   ]
  },
  {
   "cell_type": "code",
   "execution_count": 126,
   "metadata": {},
   "outputs": [
    {
     "name": "stdout",
     "output_type": "stream",
     "text": [
      "['Sólo daños', 'No fatal', 'Fatal', 'Certificado cero']\n",
      "   ID_CLASACC           CLASACC\n",
      "0           1        Sólo daños\n",
      "1           2          No fatal\n",
      "2           3             Fatal\n",
      "3           4  Certificado cero\n"
     ]
    }
   ],
   "source": [
    "tc_clasacc=onehot('CLASACC')"
   ]
  },
  {
   "cell_type": "code",
   "execution_count": 9,
   "metadata": {},
   "outputs": [],
   "source": [
    "def exportar_csv(df, name):\n",
    "    df.to_csv(path.data_processed_dir().joinpath(name))\n",
    "    "
   ]
  },
  {
   "cell_type": "code",
   "execution_count": 135,
   "metadata": {},
   "outputs": [],
   "source": [
    "exportar_csv(df=tc_entidad, name='tc_entidad.csv')\n",
    "exportar_csv(df=tc_municipio, name='tc_municipio.csv')\n",
    "exportar_csv(df=tc_periodo_mes, name='tc_periodo_mes.csv')\n",
    "exportar_csv(df=tc_semana, name='tc_semana.csv')\n",
    "exportar_csv(df=tc_sexo, name='tc_sexo.csv')\n",
    "exportar_csv(df=tc_suburbana, name='tc_suburbana.csv')\n",
    "exportar_csv(df=tc_urbana, name='tc_urbana.csv')\n",
    "exportar_csv(df=tc_tipaccid, name='tc_tipaccid.csv')\n",
    "exportar_csv(df=tc_causaacci, name='tc_causaacci.csv')\n",
    "exportar_csv(df=tc_caparod, name='tc_caparod.csv')\n",
    "exportar_csv(df=tc_aliento, name='tc_aliento.csv')\n",
    "exportar_csv(df=tc_cinturon, name='tc_cinturon.csv')\n",
    "exportar_csv(df=tc_clasacc, name='tc_clasacc.csv')\n",
    "exportar_csv(df=df_atus, name='atus_ligero.csv')"
   ]
  },
  {
   "cell_type": "code",
   "execution_count": 127,
   "metadata": {},
   "outputs": [],
   "source": [
    "a = df_atus.memory_usage(deep=True)"
   ]
  },
  {
   "cell_type": "code",
   "execution_count": 128,
   "metadata": {},
   "outputs": [],
   "source": [
    "memory = pd.DataFrame(a)"
   ]
  },
  {
   "cell_type": "code",
   "execution_count": 129,
   "metadata": {},
   "outputs": [
    {
     "data": {
      "image/png": "[encoded data removed]",
      "text/plain": [
       "<Figure size 640x480 with 1 Axes>"
      ]
     },
     "metadata": {},
     "output_type": "display_data"
    }
   ],
   "source": [
    "sns.barplot(x=memory.index, y=memory[0].values)\n",
    "plt.xticks(rotation=90)  # Puedes probar con otros ángulos como 90\n",
    "plt.tight_layout()       # Ajusta el espacio para evitar cortes\n",
    "plt.show()"
   ]
  },
  {
   "cell_type": "code",
   "execution_count": 4,
   "metadata": {},
   "outputs": [],
   "source": [
    "df_atus_ligero = pd.read_csv(path.data_processed_dir().joinpath('atus_ligero.csv'))"
   ]
  },
  {
   "cell_type": "code",
   "execution_count": 18,
   "metadata": {},
   "outputs": [
    {
     "name": "stdout",
     "output_type": "stream",
     "text": [
      "[       0        1        2 ... 10340219 10340220 10340221]\n",
      "[ 1  2  3  4  5  6  7  8  9 10 11 12 13 14 15 16 17 18 19 20 21 22 23 24\n",
      " 25 26 27 28 29 30 31 32]\n",
      "[2009 2016 2003 1998 2011 2002 2021 2010 1997 2023 2013 2012 2007 2015\n",
      " 2006 2004 2005 2014 2001 1999 2018 2000 2008 2017 2020 2022 2019]\n",
      "[ 1  2  3  4  5  6  7  8  9 10 11 12]\n",
      "[ 1 11 17 18 19 21  0  3  8 10 15 16 22 23  2  4 12  7  9 13 14 20  6  5]\n",
      "[10 24 23 25 26 27 28 29 11 12 14 13 15 16 17 18 19 20 21 22  1  2  3  4\n",
      "  5  6  7  8  9 30 31]\n",
      "[6 5 7 1 2 3 4]\n",
      "[ 1  2  3  4  5  6  7  8  9 10 11 12 13]\n",
      "[1 0 2 3 4 6 5 7 9 8]\n",
      "[0 1 2 3 4 5 7 9 6 8]\n",
      "[0 1 2 3 4 9 7 5 6]\n",
      "[0 1 2 3 4 7 9 5 8 6]\n",
      "[0 1 2 3 5 4 6 9]\n",
      "[0 1 2 9]\n",
      "[0 1 2 3 4 5 7 8 9 6]\n",
      "[0 1 2 4 3 8 5 7 9]\n",
      "[0 1 2 3 4 5 9 6 7 8]\n",
      "[0 1 2 3 4 5 9]\n",
      "[0 1 2 5 3 4 6 9 7 8]\n",
      "[0 1 2 4 3 8 6 5 7 9]\n",
      "[0 1 2 3 4 9 8 5 7 6]\n",
      "[1 2 3 4 5 6]\n",
      "[1 2 3]\n",
      "[1 0 2]\n",
      "[1 2 3 4]\n",
      "[1 2 3 4]\n",
      "[18 39 44 51 37 35 23 32 22 21 24 28 26 33 43 72  0 19 20 56 57 48 53 50\n",
      " 31 52 76 34 25 46 27 49 17 64 67 45 61 36 55 41 38 42 30 71 47 58 59 80\n",
      " 40 14 70 29 65 99 54 63 15 16 62 69 60 68 12 74 82 73 66 86 13 85 77 79\n",
      " 75 78 84 83 90 81 88 87 92 89 93 91 95 94 97 98 96]\n",
      "[0 1 2 3 4 5 8 6 9 7]\n",
      "[ 0  1  2  5  3  4  8  7  6  9 10 30 34 15]\n",
      "[ 0  1  5  2 26  7  3 10  4  6 21  9 11 17 15  8 12 36 19 18 33 13 20 16\n",
      " 14]\n",
      "[ 0  1  3  2  4  8  5  9  6 10  7 54 13 12 14 15 18 11 16 20 30 21 17 35\n",
      " 19 26 22 38 32 23 50 24 37 25 33 40 47 27 28 80 43 49 34 45 39 31 29 48\n",
      " 44 46 41 56 36 57 91 42]\n",
      "[ 0  1  3  2  4 10  5  6]\n",
      "[ 0  1  2  3  4  5 10  8  7  6 14  9]\n",
      "[ 0  1  2  3  5  4 10]\n",
      "[0 1 2 4 3 6 5]\n",
      "[ 0  1 11 50  2  6  3  4]\n",
      "[ 0  1  2  3  4  7 23 15 18  5 30  8 11  9 13 14  6 12 10 19]\n",
      "[1 2 3 4]\n"
     ]
    }
   ],
   "source": [
    "for i in df_atus_ligero.columns:\n",
    "    print(df_atus_ligero[i].unique())"
   ]
  },
  {
   "cell_type": "code",
   "execution_count": 7,
   "metadata": {},
   "outputs": [],
   "source": [
    "df_atus_ligero.drop(['ID_MUNICIPIO','NEMUERTO','NEHERIDO'],inplace=True, axis=1)"
   ]
  },
  {
   "cell_type": "code",
   "execution_count": 13,
   "metadata": {},
   "outputs": [],
   "source": [
    "df_atus_ligero.drop(df_atus_ligero[df_atus_ligero['CICLHERIDO'] == -1].index, inplace=True)"
   ]
  },
  {
   "cell_type": "code",
   "execution_count": 15,
   "metadata": {},
   "outputs": [],
   "source": [
    "df_atus_ligero.drop(df_atus_ligero[df_atus_ligero['ID_HORA'] == 99].index, inplace=True)"
   ]
  },
  {
   "cell_type": "code",
   "execution_count": 17,
   "metadata": {},
   "outputs": [],
   "source": [
    "df_atus_ligero.drop(['URBANA','SUBURBANA'], inplace=True, axis=1)"
   ]
  },
  {
   "cell_type": "code",
   "execution_count": null,
   "metadata": {},
   "outputs": [],
   "source": [
    "df_atus_ligero.drop(['TRANVIA'], inplace=True, axis=1)"
   ]
  },
  {
   "cell_type": "code",
   "execution_count": 21,
   "metadata": {},
   "outputs": [],
   "source": [
    "df_atus_ligero.drop(['FERROCARRI'], inplace=True, axis=1)"
   ]
  },
  {
   "cell_type": "code",
   "execution_count": 24,
   "metadata": {},
   "outputs": [],
   "source": [
    "df_atus_ligero.drop(['Unnamed: 0'], inplace=True, axis=1)"
   ]
  },
  {
   "cell_type": "code",
   "execution_count": 30,
   "metadata": {},
   "outputs": [],
   "source": [
    "df_atus_ligero.drop(['AUTOMOVIL','CAMPASAJ','MICROBUS','PASCAMION','OMNIBUS','CAMIONETA','CAMION','TRACTOR','MOTOCICLET','BICICLETA','OTROVEHIC'], inplace=True, axis=1)"
   ]
  },
  {
   "cell_type": "code",
   "execution_count": 31,
   "metadata": {},
   "outputs": [
    {
     "name": "stdout",
     "output_type": "stream",
     "text": [
      "[ 1  2  3  4  5  6  7  8  9 10 11 12 13 14 15 16 17 18 19 20 21 22 23 24\n",
      " 25 26 27 28 29 30 31 32]\n",
      "[2009 2016 2003 1998 2011 2002 2021 2010 1997 2023 2013 2012 2007 2015\n",
      " 2006 2004 2005 2014 2001 1999 2018 2000 2008 2017 2020 2022 2019]\n",
      "[ 1  2  3  4  5  6  7  8  9 10 11 12]\n",
      "[ 1 11 17 18 19 21  0  3  8 10 15 16 22 23  2  4 12  7  9 13 14 20  6  5]\n",
      "[10 24 23 25 26 27 28 29 11 12 14 13 15 16 17 18 19 20 21 22  1  2  3  4\n",
      "  5  6  7  8  9 30 31]\n",
      "[6 5 7 1 2 3 4]\n",
      "[ 1  2  3  4  5  6  7  8  9 10 11 12 13]\n",
      "[1 2 3 4 5 6]\n",
      "[1 2 3]\n",
      "[1 0 2]\n",
      "[1 2 3 4]\n",
      "[1 2 3 4]\n",
      "[18 39 44 51 37 35 23 32 22 21 24 28 26 33 43 72  0 19 20 56 57 48 53 50\n",
      " 31 52 76 34 25 46 27 49 17 64 67 45 61 36 55 41 38 42 30 71 47 58 59 80\n",
      " 40 14 70 29 65 99 54 63 15 16 62 69 60 68 12 74 82 73 66 86 13 85 77 79\n",
      " 75 78 84 83 90 81 88 87 92 89 93 91 95 94 97 98 96]\n",
      "[0 1 2 3 4 5 8 6 9 7]\n",
      "[ 0  1  2  5  3  4  8  7  6  9 10 30 34 15]\n",
      "[ 0  1  5  2 26  7  3 10  4  6 21  9 11 17 15  8 12 36 19 18 33 13 20 16\n",
      " 14]\n",
      "[ 0  1  3  2  4  8  5  9  6 10  7 54 13 12 14 15 18 11 16 20 30 21 17 35\n",
      " 19 26 22 38 32 23 50 24 37 25 33 40 47 27 28 80 43 49 34 45 39 31 29 48\n",
      " 44 46 41 56 36 57 91 42]\n",
      "[ 0  1  3  2  4 10  5  6]\n",
      "[ 0  1  2  3  4  5 10  8  7  6 14  9]\n",
      "[ 0  1  2  3  5  4 10]\n",
      "[0 1 2 4 3 6 5]\n",
      "[ 0  1 11 50  2  6  3  4]\n",
      "[ 0  1  2  3  4  7 23 15 18  5 30  8 11  9 13 14  6 12 10 19]\n",
      "[1 2 3 4]\n"
     ]
    }
   ],
   "source": [
    "for i in df_atus_ligero.columns:\n",
    "    print(df_atus_ligero[i].unique())"
   ]
  },
  {
   "cell_type": "code",
   "execution_count": 32,
   "metadata": {},
   "outputs": [],
   "source": [
    "df_atus_ligero.drop(['CAPAROD'], inplace=True, axis=1)"
   ]
  },
  {
   "cell_type": "code",
   "execution_count": 36,
   "metadata": {},
   "outputs": [],
   "source": [
    "df_atus_ligero['MUERTOS'] = df_atus_ligero[['CONDMUERTO','PASAMUERTO','PEATMUERTO','CICLMUERTO','OTROMUERTO']].sum(axis=1)"
   ]
  },
  {
   "cell_type": "code",
   "execution_count": 37,
   "metadata": {},
   "outputs": [],
   "source": [
    "df_atus_ligero['HERIDOS'] = df_atus_ligero[['CONDHERIDO','PASAHERIDO','PEATHERIDO','CICLHERIDO','OTROHERIDO']].sum(axis=1)"
   ]
  },
  {
   "cell_type": "code",
   "execution_count": 38,
   "metadata": {},
   "outputs": [
    {
     "data": {
      "text/html": [
       "<div>\n",
       "<style scoped>\n",
       "    .dataframe tbody tr th:only-of-type {\n",
       "        vertical-align: middle;\n",
       "    }\n",
       "\n",
       "    .dataframe tbody tr th {\n",
       "        vertical-align: top;\n",
       "    }\n",
       "\n",
       "    .dataframe thead th {\n",
       "        text-align: right;\n",
       "    }\n",
       "</style>\n",
       "<table border=\"1\" class=\"dataframe\">\n",
       "  <thead>\n",
       "    <tr style=\"text-align: right;\">\n",
       "      <th></th>\n",
       "      <th>ID_ENTIDAD</th>\n",
       "      <th>ANIO</th>\n",
       "      <th>MES</th>\n",
       "      <th>ID_HORA</th>\n",
       "      <th>ID_DIA</th>\n",
       "      <th>DIASEMANA</th>\n",
       "      <th>TIPACCID</th>\n",
       "      <th>CAUSAACCI</th>\n",
       "      <th>SEXO</th>\n",
       "      <th>ALIENTO</th>\n",
       "      <th>...</th>\n",
       "      <th>PASAHERIDO</th>\n",
       "      <th>PEATMUERTO</th>\n",
       "      <th>PEATHERIDO</th>\n",
       "      <th>CICLMUERTO</th>\n",
       "      <th>CICLHERIDO</th>\n",
       "      <th>OTROMUERTO</th>\n",
       "      <th>OTROHERIDO</th>\n",
       "      <th>CLASACC</th>\n",
       "      <th>MUERTOS</th>\n",
       "      <th>HERIDOS</th>\n",
       "    </tr>\n",
       "  </thead>\n",
       "  <tbody>\n",
       "    <tr>\n",
       "      <th>0</th>\n",
       "      <td>1</td>\n",
       "      <td>2009</td>\n",
       "      <td>1</td>\n",
       "      <td>1</td>\n",
       "      <td>10</td>\n",
       "      <td>6</td>\n",
       "      <td>1</td>\n",
       "      <td>1</td>\n",
       "      <td>1</td>\n",
       "      <td>1</td>\n",
       "      <td>...</td>\n",
       "      <td>0</td>\n",
       "      <td>0</td>\n",
       "      <td>0</td>\n",
       "      <td>0</td>\n",
       "      <td>0</td>\n",
       "      <td>0</td>\n",
       "      <td>0</td>\n",
       "      <td>1</td>\n",
       "      <td>0</td>\n",
       "      <td>0</td>\n",
       "    </tr>\n",
       "    <tr>\n",
       "      <th>1</th>\n",
       "      <td>1</td>\n",
       "      <td>2009</td>\n",
       "      <td>1</td>\n",
       "      <td>11</td>\n",
       "      <td>10</td>\n",
       "      <td>6</td>\n",
       "      <td>2</td>\n",
       "      <td>1</td>\n",
       "      <td>1</td>\n",
       "      <td>2</td>\n",
       "      <td>...</td>\n",
       "      <td>0</td>\n",
       "      <td>0</td>\n",
       "      <td>0</td>\n",
       "      <td>0</td>\n",
       "      <td>0</td>\n",
       "      <td>0</td>\n",
       "      <td>0</td>\n",
       "      <td>1</td>\n",
       "      <td>0</td>\n",
       "      <td>0</td>\n",
       "    </tr>\n",
       "    <tr>\n",
       "      <th>2</th>\n",
       "      <td>1</td>\n",
       "      <td>2009</td>\n",
       "      <td>1</td>\n",
       "      <td>17</td>\n",
       "      <td>10</td>\n",
       "      <td>6</td>\n",
       "      <td>2</td>\n",
       "      <td>1</td>\n",
       "      <td>1</td>\n",
       "      <td>2</td>\n",
       "      <td>...</td>\n",
       "      <td>0</td>\n",
       "      <td>0</td>\n",
       "      <td>0</td>\n",
       "      <td>0</td>\n",
       "      <td>0</td>\n",
       "      <td>0</td>\n",
       "      <td>0</td>\n",
       "      <td>1</td>\n",
       "      <td>0</td>\n",
       "      <td>0</td>\n",
       "    </tr>\n",
       "    <tr>\n",
       "      <th>3</th>\n",
       "      <td>1</td>\n",
       "      <td>2009</td>\n",
       "      <td>1</td>\n",
       "      <td>18</td>\n",
       "      <td>10</td>\n",
       "      <td>6</td>\n",
       "      <td>2</td>\n",
       "      <td>1</td>\n",
       "      <td>1</td>\n",
       "      <td>2</td>\n",
       "      <td>...</td>\n",
       "      <td>1</td>\n",
       "      <td>0</td>\n",
       "      <td>0</td>\n",
       "      <td>0</td>\n",
       "      <td>0</td>\n",
       "      <td>0</td>\n",
       "      <td>0</td>\n",
       "      <td>2</td>\n",
       "      <td>0</td>\n",
       "      <td>2</td>\n",
       "    </tr>\n",
       "    <tr>\n",
       "      <th>4</th>\n",
       "      <td>1</td>\n",
       "      <td>2009</td>\n",
       "      <td>1</td>\n",
       "      <td>19</td>\n",
       "      <td>10</td>\n",
       "      <td>6</td>\n",
       "      <td>3</td>\n",
       "      <td>1</td>\n",
       "      <td>1</td>\n",
       "      <td>2</td>\n",
       "      <td>...</td>\n",
       "      <td>0</td>\n",
       "      <td>0</td>\n",
       "      <td>0</td>\n",
       "      <td>0</td>\n",
       "      <td>0</td>\n",
       "      <td>0</td>\n",
       "      <td>0</td>\n",
       "      <td>1</td>\n",
       "      <td>0</td>\n",
       "      <td>0</td>\n",
       "    </tr>\n",
       "    <tr>\n",
       "      <th>...</th>\n",
       "      <td>...</td>\n",
       "      <td>...</td>\n",
       "      <td>...</td>\n",
       "      <td>...</td>\n",
       "      <td>...</td>\n",
       "      <td>...</td>\n",
       "      <td>...</td>\n",
       "      <td>...</td>\n",
       "      <td>...</td>\n",
       "      <td>...</td>\n",
       "      <td>...</td>\n",
       "      <td>...</td>\n",
       "      <td>...</td>\n",
       "      <td>...</td>\n",
       "      <td>...</td>\n",
       "      <td>...</td>\n",
       "      <td>...</td>\n",
       "      <td>...</td>\n",
       "      <td>...</td>\n",
       "      <td>...</td>\n",
       "      <td>...</td>\n",
       "    </tr>\n",
       "    <tr>\n",
       "      <th>10291378</th>\n",
       "      <td>32</td>\n",
       "      <td>2019</td>\n",
       "      <td>12</td>\n",
       "      <td>9</td>\n",
       "      <td>27</td>\n",
       "      <td>5</td>\n",
       "      <td>2</td>\n",
       "      <td>1</td>\n",
       "      <td>1</td>\n",
       "      <td>2</td>\n",
       "      <td>...</td>\n",
       "      <td>0</td>\n",
       "      <td>0</td>\n",
       "      <td>0</td>\n",
       "      <td>0</td>\n",
       "      <td>0</td>\n",
       "      <td>0</td>\n",
       "      <td>0</td>\n",
       "      <td>1</td>\n",
       "      <td>0</td>\n",
       "      <td>0</td>\n",
       "    </tr>\n",
       "    <tr>\n",
       "      <th>10291379</th>\n",
       "      <td>32</td>\n",
       "      <td>2019</td>\n",
       "      <td>12</td>\n",
       "      <td>2</td>\n",
       "      <td>29</td>\n",
       "      <td>7</td>\n",
       "      <td>2</td>\n",
       "      <td>1</td>\n",
       "      <td>1</td>\n",
       "      <td>1</td>\n",
       "      <td>...</td>\n",
       "      <td>0</td>\n",
       "      <td>0</td>\n",
       "      <td>0</td>\n",
       "      <td>0</td>\n",
       "      <td>0</td>\n",
       "      <td>0</td>\n",
       "      <td>0</td>\n",
       "      <td>1</td>\n",
       "      <td>0</td>\n",
       "      <td>0</td>\n",
       "    </tr>\n",
       "    <tr>\n",
       "      <th>10291380</th>\n",
       "      <td>32</td>\n",
       "      <td>2019</td>\n",
       "      <td>12</td>\n",
       "      <td>18</td>\n",
       "      <td>30</td>\n",
       "      <td>1</td>\n",
       "      <td>1</td>\n",
       "      <td>1</td>\n",
       "      <td>1</td>\n",
       "      <td>2</td>\n",
       "      <td>...</td>\n",
       "      <td>1</td>\n",
       "      <td>0</td>\n",
       "      <td>0</td>\n",
       "      <td>0</td>\n",
       "      <td>0</td>\n",
       "      <td>0</td>\n",
       "      <td>0</td>\n",
       "      <td>2</td>\n",
       "      <td>0</td>\n",
       "      <td>2</td>\n",
       "    </tr>\n",
       "    <tr>\n",
       "      <th>10291381</th>\n",
       "      <td>32</td>\n",
       "      <td>2019</td>\n",
       "      <td>12</td>\n",
       "      <td>15</td>\n",
       "      <td>31</td>\n",
       "      <td>2</td>\n",
       "      <td>2</td>\n",
       "      <td>1</td>\n",
       "      <td>2</td>\n",
       "      <td>2</td>\n",
       "      <td>...</td>\n",
       "      <td>0</td>\n",
       "      <td>0</td>\n",
       "      <td>0</td>\n",
       "      <td>0</td>\n",
       "      <td>0</td>\n",
       "      <td>0</td>\n",
       "      <td>0</td>\n",
       "      <td>1</td>\n",
       "      <td>0</td>\n",
       "      <td>0</td>\n",
       "    </tr>\n",
       "    <tr>\n",
       "      <th>10291382</th>\n",
       "      <td>32</td>\n",
       "      <td>2019</td>\n",
       "      <td>12</td>\n",
       "      <td>23</td>\n",
       "      <td>31</td>\n",
       "      <td>2</td>\n",
       "      <td>2</td>\n",
       "      <td>1</td>\n",
       "      <td>1</td>\n",
       "      <td>2</td>\n",
       "      <td>...</td>\n",
       "      <td>3</td>\n",
       "      <td>0</td>\n",
       "      <td>0</td>\n",
       "      <td>0</td>\n",
       "      <td>0</td>\n",
       "      <td>0</td>\n",
       "      <td>0</td>\n",
       "      <td>2</td>\n",
       "      <td>0</td>\n",
       "      <td>3</td>\n",
       "    </tr>\n",
       "  </tbody>\n",
       "</table>\n",
       "<p>10289854 rows × 25 columns</p>\n",
       "</div>"
      ],
      "text/plain": [
       "          ID_ENTIDAD  ANIO  MES  ID_HORA  ID_DIA  DIASEMANA  TIPACCID  \\\n",
       "0                  1  2009    1        1      10          6         1   \n",
       "1                  1  2009    1       11      10          6         2   \n",
       "2                  1  2009    1       17      10          6         2   \n",
       "3                  1  2009    1       18      10          6         2   \n",
       "4                  1  2009    1       19      10          6         3   \n",
       "...              ...   ...  ...      ...     ...        ...       ...   \n",
       "10291378          32  2019   12        9      27          5         2   \n",
       "10291379          32  2019   12        2      29          7         2   \n",
       "10291380          32  2019   12       18      30          1         1   \n",
       "10291381          32  2019   12       15      31          2         2   \n",
       "10291382          32  2019   12       23      31          2         2   \n",
       "\n",
       "          CAUSAACCI  SEXO  ALIENTO  ...  PASAHERIDO  PEATMUERTO  PEATHERIDO  \\\n",
       "0                 1     1        1  ...           0           0           0   \n",
       "1                 1     1        2  ...           0           0           0   \n",
       "2                 1     1        2  ...           0           0           0   \n",
       "3                 1     1        2  ...           1           0           0   \n",
       "4                 1     1        2  ...           0           0           0   \n",
       "...             ...   ...      ...  ...         ...         ...         ...   \n",
       "10291378          1     1        2  ...           0           0           0   \n",
       "10291379          1     1        1  ...           0           0           0   \n",
       "10291380          1     1        2  ...           1           0           0   \n",
       "10291381          1     2        2  ...           0           0           0   \n",
       "10291382          1     1        2  ...           3           0           0   \n",
       "\n",
       "          CICLMUERTO  CICLHERIDO  OTROMUERTO  OTROHERIDO  CLASACC  MUERTOS  \\\n",
       "0                  0           0           0           0        1        0   \n",
       "1                  0           0           0           0        1        0   \n",
       "2                  0           0           0           0        1        0   \n",
       "3                  0           0           0           0        2        0   \n",
       "4                  0           0           0           0        1        0   \n",
       "...              ...         ...         ...         ...      ...      ...   \n",
       "10291378           0           0           0           0        1        0   \n",
       "10291379           0           0           0           0        1        0   \n",
       "10291380           0           0           0           0        2        0   \n",
       "10291381           0           0           0           0        1        0   \n",
       "10291382           0           0           0           0        2        0   \n",
       "\n",
       "          HERIDOS  \n",
       "0               0  \n",
       "1               0  \n",
       "2               0  \n",
       "3               2  \n",
       "4               0  \n",
       "...           ...  \n",
       "10291378        0  \n",
       "10291379        0  \n",
       "10291380        2  \n",
       "10291381        0  \n",
       "10291382        3  \n",
       "\n",
       "[10289854 rows x 25 columns]"
      ]
     },
     "execution_count": 38,
     "metadata": {},
     "output_type": "execute_result"
    }
   ],
   "source": [
    "df_atus_ligero"
   ]
  },
  {
   "cell_type": "code",
   "execution_count": 39,
   "metadata": {},
   "outputs": [],
   "source": [
    "df_atus_ligero.drop(['CONDHERIDO','PASAHERIDO','PEATHERIDO','CICLHERIDO','OTROHERIDO','CONDMUERTO','PASAMUERTO','PEATMUERTO','CICLMUERTO','OTROMUERTO'], inplace=True, axis=1)"
   ]
  },
  {
   "cell_type": "code",
   "execution_count": 40,
   "metadata": {},
   "outputs": [
    {
     "data": {
      "text/html": [
       "<div>\n",
       "<style scoped>\n",
       "    .dataframe tbody tr th:only-of-type {\n",
       "        vertical-align: middle;\n",
       "    }\n",
       "\n",
       "    .dataframe tbody tr th {\n",
       "        vertical-align: top;\n",
       "    }\n",
       "\n",
       "    .dataframe thead th {\n",
       "        text-align: right;\n",
       "    }\n",
       "</style>\n",
       "<table border=\"1\" class=\"dataframe\">\n",
       "  <thead>\n",
       "    <tr style=\"text-align: right;\">\n",
       "      <th></th>\n",
       "      <th>ID_ENTIDAD</th>\n",
       "      <th>ANIO</th>\n",
       "      <th>MES</th>\n",
       "      <th>ID_HORA</th>\n",
       "      <th>ID_DIA</th>\n",
       "      <th>DIASEMANA</th>\n",
       "      <th>TIPACCID</th>\n",
       "      <th>CAUSAACCI</th>\n",
       "      <th>SEXO</th>\n",
       "      <th>ALIENTO</th>\n",
       "      <th>CINTURON</th>\n",
       "      <th>ID_EDAD</th>\n",
       "      <th>CLASACC</th>\n",
       "      <th>MUERTOS</th>\n",
       "      <th>HERIDOS</th>\n",
       "    </tr>\n",
       "  </thead>\n",
       "  <tbody>\n",
       "    <tr>\n",
       "      <th>0</th>\n",
       "      <td>1</td>\n",
       "      <td>2009</td>\n",
       "      <td>1</td>\n",
       "      <td>1</td>\n",
       "      <td>10</td>\n",
       "      <td>6</td>\n",
       "      <td>1</td>\n",
       "      <td>1</td>\n",
       "      <td>1</td>\n",
       "      <td>1</td>\n",
       "      <td>1</td>\n",
       "      <td>18</td>\n",
       "      <td>1</td>\n",
       "      <td>0</td>\n",
       "      <td>0</td>\n",
       "    </tr>\n",
       "    <tr>\n",
       "      <th>1</th>\n",
       "      <td>1</td>\n",
       "      <td>2009</td>\n",
       "      <td>1</td>\n",
       "      <td>11</td>\n",
       "      <td>10</td>\n",
       "      <td>6</td>\n",
       "      <td>2</td>\n",
       "      <td>1</td>\n",
       "      <td>1</td>\n",
       "      <td>2</td>\n",
       "      <td>1</td>\n",
       "      <td>39</td>\n",
       "      <td>1</td>\n",
       "      <td>0</td>\n",
       "      <td>0</td>\n",
       "    </tr>\n",
       "    <tr>\n",
       "      <th>2</th>\n",
       "      <td>1</td>\n",
       "      <td>2009</td>\n",
       "      <td>1</td>\n",
       "      <td>17</td>\n",
       "      <td>10</td>\n",
       "      <td>6</td>\n",
       "      <td>2</td>\n",
       "      <td>1</td>\n",
       "      <td>1</td>\n",
       "      <td>2</td>\n",
       "      <td>1</td>\n",
       "      <td>44</td>\n",
       "      <td>1</td>\n",
       "      <td>0</td>\n",
       "      <td>0</td>\n",
       "    </tr>\n",
       "    <tr>\n",
       "      <th>3</th>\n",
       "      <td>1</td>\n",
       "      <td>2009</td>\n",
       "      <td>1</td>\n",
       "      <td>18</td>\n",
       "      <td>10</td>\n",
       "      <td>6</td>\n",
       "      <td>2</td>\n",
       "      <td>1</td>\n",
       "      <td>1</td>\n",
       "      <td>2</td>\n",
       "      <td>1</td>\n",
       "      <td>51</td>\n",
       "      <td>2</td>\n",
       "      <td>0</td>\n",
       "      <td>2</td>\n",
       "    </tr>\n",
       "    <tr>\n",
       "      <th>4</th>\n",
       "      <td>1</td>\n",
       "      <td>2009</td>\n",
       "      <td>1</td>\n",
       "      <td>19</td>\n",
       "      <td>10</td>\n",
       "      <td>6</td>\n",
       "      <td>3</td>\n",
       "      <td>1</td>\n",
       "      <td>1</td>\n",
       "      <td>2</td>\n",
       "      <td>1</td>\n",
       "      <td>37</td>\n",
       "      <td>1</td>\n",
       "      <td>0</td>\n",
       "      <td>0</td>\n",
       "    </tr>\n",
       "    <tr>\n",
       "      <th>...</th>\n",
       "      <td>...</td>\n",
       "      <td>...</td>\n",
       "      <td>...</td>\n",
       "      <td>...</td>\n",
       "      <td>...</td>\n",
       "      <td>...</td>\n",
       "      <td>...</td>\n",
       "      <td>...</td>\n",
       "      <td>...</td>\n",
       "      <td>...</td>\n",
       "      <td>...</td>\n",
       "      <td>...</td>\n",
       "      <td>...</td>\n",
       "      <td>...</td>\n",
       "      <td>...</td>\n",
       "    </tr>\n",
       "    <tr>\n",
       "      <th>10291378</th>\n",
       "      <td>32</td>\n",
       "      <td>2019</td>\n",
       "      <td>12</td>\n",
       "      <td>9</td>\n",
       "      <td>27</td>\n",
       "      <td>5</td>\n",
       "      <td>2</td>\n",
       "      <td>1</td>\n",
       "      <td>1</td>\n",
       "      <td>2</td>\n",
       "      <td>1</td>\n",
       "      <td>56</td>\n",
       "      <td>1</td>\n",
       "      <td>0</td>\n",
       "      <td>0</td>\n",
       "    </tr>\n",
       "    <tr>\n",
       "      <th>10291379</th>\n",
       "      <td>32</td>\n",
       "      <td>2019</td>\n",
       "      <td>12</td>\n",
       "      <td>2</td>\n",
       "      <td>29</td>\n",
       "      <td>7</td>\n",
       "      <td>2</td>\n",
       "      <td>1</td>\n",
       "      <td>1</td>\n",
       "      <td>1</td>\n",
       "      <td>1</td>\n",
       "      <td>25</td>\n",
       "      <td>1</td>\n",
       "      <td>0</td>\n",
       "      <td>0</td>\n",
       "    </tr>\n",
       "    <tr>\n",
       "      <th>10291380</th>\n",
       "      <td>32</td>\n",
       "      <td>2019</td>\n",
       "      <td>12</td>\n",
       "      <td>18</td>\n",
       "      <td>30</td>\n",
       "      <td>1</td>\n",
       "      <td>1</td>\n",
       "      <td>1</td>\n",
       "      <td>1</td>\n",
       "      <td>2</td>\n",
       "      <td>1</td>\n",
       "      <td>45</td>\n",
       "      <td>2</td>\n",
       "      <td>0</td>\n",
       "      <td>2</td>\n",
       "    </tr>\n",
       "    <tr>\n",
       "      <th>10291381</th>\n",
       "      <td>32</td>\n",
       "      <td>2019</td>\n",
       "      <td>12</td>\n",
       "      <td>15</td>\n",
       "      <td>31</td>\n",
       "      <td>2</td>\n",
       "      <td>2</td>\n",
       "      <td>1</td>\n",
       "      <td>2</td>\n",
       "      <td>2</td>\n",
       "      <td>1</td>\n",
       "      <td>21</td>\n",
       "      <td>1</td>\n",
       "      <td>0</td>\n",
       "      <td>0</td>\n",
       "    </tr>\n",
       "    <tr>\n",
       "      <th>10291382</th>\n",
       "      <td>32</td>\n",
       "      <td>2019</td>\n",
       "      <td>12</td>\n",
       "      <td>23</td>\n",
       "      <td>31</td>\n",
       "      <td>2</td>\n",
       "      <td>2</td>\n",
       "      <td>1</td>\n",
       "      <td>1</td>\n",
       "      <td>2</td>\n",
       "      <td>1</td>\n",
       "      <td>20</td>\n",
       "      <td>2</td>\n",
       "      <td>0</td>\n",
       "      <td>3</td>\n",
       "    </tr>\n",
       "  </tbody>\n",
       "</table>\n",
       "<p>10289854 rows × 15 columns</p>\n",
       "</div>"
      ],
      "text/plain": [
       "          ID_ENTIDAD  ANIO  MES  ID_HORA  ID_DIA  DIASEMANA  TIPACCID  \\\n",
       "0                  1  2009    1        1      10          6         1   \n",
       "1                  1  2009    1       11      10          6         2   \n",
       "2                  1  2009    1       17      10          6         2   \n",
       "3                  1  2009    1       18      10          6         2   \n",
       "4                  1  2009    1       19      10          6         3   \n",
       "...              ...   ...  ...      ...     ...        ...       ...   \n",
       "10291378          32  2019   12        9      27          5         2   \n",
       "10291379          32  2019   12        2      29          7         2   \n",
       "10291380          32  2019   12       18      30          1         1   \n",
       "10291381          32  2019   12       15      31          2         2   \n",
       "10291382          32  2019   12       23      31          2         2   \n",
       "\n",
       "          CAUSAACCI  SEXO  ALIENTO  CINTURON  ID_EDAD  CLASACC  MUERTOS  \\\n",
       "0                 1     1        1         1       18        1        0   \n",
       "1                 1     1        2         1       39        1        0   \n",
       "2                 1     1        2         1       44        1        0   \n",
       "3                 1     1        2         1       51        2        0   \n",
       "4                 1     1        2         1       37        1        0   \n",
       "...             ...   ...      ...       ...      ...      ...      ...   \n",
       "10291378          1     1        2         1       56        1        0   \n",
       "10291379          1     1        1         1       25        1        0   \n",
       "10291380          1     1        2         1       45        2        0   \n",
       "10291381          1     2        2         1       21        1        0   \n",
       "10291382          1     1        2         1       20        2        0   \n",
       "\n",
       "          HERIDOS  \n",
       "0               0  \n",
       "1               0  \n",
       "2               0  \n",
       "3               2  \n",
       "4               0  \n",
       "...           ...  \n",
       "10291378        0  \n",
       "10291379        0  \n",
       "10291380        2  \n",
       "10291381        0  \n",
       "10291382        3  \n",
       "\n",
       "[10289854 rows x 15 columns]"
      ]
     },
     "execution_count": 40,
     "metadata": {},
     "output_type": "execute_result"
    }
   ],
   "source": [
    "df_atus_ligero"
   ]
  },
  {
   "cell_type": "code",
   "execution_count": 42,
   "metadata": {},
   "outputs": [],
   "source": [
    "exportar_csv(df=df_atus_ligero, name='atus_optimo.csv')"
   ]
  },
  {
   "cell_type": "code",
   "execution_count": 7,
   "metadata": {},
   "outputs": [],
   "source": [
    "df_atus_ligero = df_atus_ligero[(df_atus_ligero['ID_EDAD'] != 0) & (df_atus_ligero['ID_EDAD'] != 100)]"
   ]
  },
  {
   "cell_type": "code",
   "execution_count": 10,
   "metadata": {},
   "outputs": [],
   "source": [
    "exportar_csv(df=df_atus_ligero, name='atus_without_outliers.csv')"
   ]
  }
 ],
 "metadata": {
  "kernelspec": {
   "display_name": "portafilio_profesional",
   "language": "python",
   "name": "python3"
  },
  "language_info": {
   "codemirror_mode": {
    "name": "ipython",
    "version": 3
   },
   "file_extension": ".py",
   "mimetype": "text/x-python",
   "name": "python",
   "nbconvert_exporter": "python",
   "pygments_lexer": "ipython3",
   "version": "3.7.12"
  }
 },
 "nbformat": 4,
 "nbformat_minor": 2
}
