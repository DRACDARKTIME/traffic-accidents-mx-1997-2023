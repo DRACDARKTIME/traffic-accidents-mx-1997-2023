{
 "cells": [
  {
   "cell_type": "code",
   "execution_count": 4,
   "metadata": {},
   "outputs": [],
   "source": [
    "%load_ext autoreload\n",
    "%autoreload 2"
   ]
  },
  {
   "cell_type": "code",
   "execution_count": 1,
   "metadata": {},
   "outputs": [],
   "source": [
    "import pandas as pd\n",
    "import os\n",
    "import portafilio_profesional.utils.paths as path\n",
    "import seaborn as sns\n",
    "import numpy as np\n",
    "import matplotlib.pyplot as plt"
   ]
  },
  {
   "cell_type": "code",
   "execution_count": 2,
   "metadata": {},
   "outputs": [],
   "source": [
    "def load_csv(name):\n",
    "    df = pd.read_csv(path.data_processed_dir(name),index_col=0)\n",
    "    return df"
   ]
  },
  {
   "cell_type": "code",
   "execution_count": 3,
   "metadata": {},
   "outputs": [],
   "source": [
    "df_atus_ligero = load_csv('atus_optimo.csv')\n",
    "tc_aliento = load_csv('tc_aliento.csv')\n",
    "tc_caparod = load_csv('tc_caparod.csv')\n",
    "tc_causaacci = load_csv('tc_causaacci.csv')\n",
    "tc_cinturon = load_csv('tc_cinturon.csv')\n",
    "tc_clasacc = load_csv('tc_clasacc.csv')\n",
    "tc_entidad = load_csv('tc_entidad.csv')\n",
    "tc_periodo_mes = load_csv('tc_periodo_mes.csv')\n",
    "tc_semana = load_csv('tc_semana.csv')\n",
    "tc_sexo = load_csv('tc_sexo.csv')\n",
    "tc_tipaccid = load_csv('tc_tipaccid.csv')"
   ]
  }
 ],
 "metadata": {
  "kernelspec": {
   "display_name": "portafilio_profesional",
   "language": "python",
   "name": "python3"
  },
  "language_info": {
   "codemirror_mode": {
    "name": "ipython",
    "version": 3
   },
   "file_extension": ".py",
   "mimetype": "text/x-python",
   "name": "python",
   "nbconvert_exporter": "python",
   "pygments_lexer": "ipython3",
   "version": "3.7.12"
  }
 },
 "nbformat": 4,
 "nbformat_minor": 2
}
